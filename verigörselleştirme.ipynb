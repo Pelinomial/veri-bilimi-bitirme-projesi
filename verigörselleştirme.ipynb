{
 "cells": [
  {
   "cell_type": "code",
   "execution_count": null,
   "id": "978e7e99-7e83-4384-901c-65d69a2148a0",
   "metadata": {},
   "outputs": [],
   "source": [
    "import pandas as pd\n",
    "import matplotlib.pyplot as plt\n",
    "\n",
    "\n",
    "veri = pd.read_csv(\"C:/Users/admin/Documents/VERI_PROJE_KLASORU/50_Startups.csv\")\n",
    "#1\n",
    "plt.scatter(veri[\"R&D Spend\"], veri[\"Profit\"], color=\"blue\")\n",
    "plt.xlabel(\"Arge Harcaması\")\n",
    "plt.ylabel(\"Kar\")\n",
    "plt.title(\"Arge Harcaması-Kar\")\n",
    "plt.show()\n",
    "\n",
    "#2\n",
    "plt.scatter(veri[\"Administration\"],veri[\"Profit\"], color=\"green\")\n",
    "plt.xlabel(\"Yönetim Harcaması\")\n",
    "plt.ylabel(\"Kar\")\n",
    "plt.title(\"Yönetim Harcaması vs Kar\")\n",
    "plt.show()\n",
    "\n",
    "#3\n",
    "ort_kar = veri.groupby(\"State\")[\"Profit\"].mean()\n",
    "ort_kar.plot(kind=\"bar\", color=[\"blue\", \"yellow\", \"blue\"])\n",
    "plt.ylabel(\"Ortalama Kar\")\n",
    "plt.title(\"Eyaletlere Göre Ortalama Kar\")\n",
    "plt.show()\n",
    "\n",
    "#4 \n",
    "veri[[\"R&D Spend\", \"Administration\", \"Marketing Spend\"]].plot(kind=\"box\")\n",
    "plt.title(\"Harcama Dağılımı\")\n",
    "plt.ylabel(\"Miktarı\")\n",
    "plt.show()"
   ]
  }
 ],
 "metadata": {
  "kernelspec": {
   "display_name": "Python [conda env:base] *",
   "language": "python",
   "name": "conda-base-py"
  },
  "language_info": {
   "codemirror_mode": {
    "name": "ipython",
    "version": 3
   },
   "file_extension": ".py",
   "mimetype": "text/x-python",
   "name": "python",
   "nbconvert_exporter": "python",
   "pygments_lexer": "ipython3",
   "version": "3.13.5"
  }
 },
 "nbformat": 4,
 "nbformat_minor": 5
}
