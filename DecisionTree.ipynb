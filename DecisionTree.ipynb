{
 "cells": [
  {
   "cell_type": "code",
   "execution_count": null,
   "id": "60180369-37df-4705-ac90-71dff936b2c0",
   "metadata": {},
   "outputs": [],
   "source": [
    "import pandas as pd\n",
    "from sklearn.model_selection import train_test_split\n",
    "from sklearn.tree import DecisionTreeClassifier, plot_tree\n",
    "from sklearn.metrics import accuracy_score, precision_score, recall_score, f1_score\n",
    "import matplotlib.pyplot as plt\n",
    "import numpy as np\n",
    "\n",
    "veri = pd.read_csv(\"C:\\\\Users\\\\cdggt\\\\Desktop\\\\dava_sonuclari.csv\")\n",
    "\n",
    "np.random.seed(13)\n",
    "veri[\"Outcome\"] = np.random.choice([0, 1], size=len(veri), p=[0.8, 0.2])\n",
    "\n",
    "X = veri[[\"Case Type\",\n",
    "          \"Case Duration (Days)\",\n",
    "          \"Judge Experience (Years)\",\n",
    "          \"Number of Witnesses\",\n",
    "          \"Legal Fees (USD)\",\n",
    "          \"Plaintiff's Reputation\",\n",
    "          \"Defendant's Wealth (USD)\",\n",
    "          \"Number of Evidence Items\",\n",
    "          \"Number of Legal Precedents\",\n",
    "          \"Settlement Offered (USD)\",\n",
    "          \"Severity\"]]\n",
    "\n",
    "y = veri[\"Outcome\"]\n",
    "\n",
    "X = pd.get_dummies(X, columns=[\"Case Type\"], drop_first=True)\n",
    "\n",
    "X_train, X_test, y_train, y_test = train_test_split(\n",
    "    X, y, test_size=0.2, random_state=13, stratify=y\n",
    ")\n",
    "\n",
    "model = DecisionTreeClassifier(\n",
    "    max_depth=5,\n",
    "    random_state=13,\n",
    "    class_weight=\"balanced\"\n",
    ")\n",
    "model.fit(X_train, y_train)\n",
    "\n",
    "y_pred = model.predict(X_test)\n",
    "\n",
    "print(\"Tahmin edilen sınıflar:\\n\", pd.Series(y_pred).value_counts())\n",
    "\n",
    "print(\"1. Accuracy :\", accuracy_score(y_test, y_pred))\n",
    "print(\"2. Precision:\", precision_score(y_test, y_pred, average=\"weighted\", zero_division=0))\n",
    "print(\"3. Recall   :\", recall_score(y_test, y_pred, average=\"weighted\", zero_division=0))\n",
    "print(\"4. F1-Score :\", f1_score(y_test, y_pred, average=\"weighted\", zero_division=0))\n",
    "\n",
    "plt.figure(figsize=(27,15))\n",
    "plot_tree(model, \n",
    "          feature_names=X.columns, \n",
    "          class_names=[str(c) for c in model.classes_], \n",
    "          filled=True, \n",
    "          rounded=True)\n",
    "plt.show()"
   ]
  }
 ],
 "metadata": {
  "kernelspec": {
   "display_name": "Python [conda env:base] *",
   "language": "python",
   "name": "conda-base-py"
  },
  "language_info": {
   "codemirror_mode": {
    "name": "ipython",
    "version": 3
   },
   "file_extension": ".py",
   "mimetype": "text/x-python",
   "name": "python",
   "nbconvert_exporter": "python",
   "pygments_lexer": "ipython3",
   "version": "3.13.5"
  }
 },
 "nbformat": 4,
 "nbformat_minor": 5
}
