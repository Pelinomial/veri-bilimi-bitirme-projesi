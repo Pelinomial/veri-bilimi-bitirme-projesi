{
 "cells": [
  {
   "cell_type": "code",
   "execution_count": null,
   "id": "f63caec4-c354-48e7-9c74-1213fb735e24",
   "metadata": {},
   "outputs": [],
   "source": [
    "import pandas as pd\n",
    "\n",
    "veri = pd.read_csv(\"C:\\Users\\admin\\Documents\\VERI_PROJE_KLASORU\\country.csv\")"
   ]
  },
  {
   "cell_type": "code",
   "execution_count": 2,
   "id": "66ceb91f-7223-4322-9931-8beb137fc9ce",
   "metadata": {},
   "outputs": [
    {
     "name": "stdout",
     "output_type": "stream",
     "text": [
      "Nüfusa göre azalan :\n",
      "     Country  Population\n",
      "1      China  1441000000\n",
      "2      India  1380000000\n",
      "0        USA   331000000\n",
      "3  Indonesia   273500000\n",
      "4     Brazil   212600000\n"
     ]
    }
   ],
   "source": [
    "\n",
    "import pandas as pd\n",
    "\n",
    "\n",
    "veri = pd.DataFrame({\n",
    "    \"Country\": [\"USA\", \"China\", \"India\", \"Indonesia\", \"Brazil\"],\n",
    "    \"Population\": [331000000, 1441000000, 1380000000, 273500000, 212600000]\n",
    "})\n",
    "\n",
    "nufusazalan = veri.sort_values(by=\"Population\", ascending=False)\n",
    "print(\"Nüfusa göre azalan :\")\n",
    "print(nufusazalan[[\"Country\", \"Population\"]])"
   ]
  },
  {
   "cell_type": "code",
   "execution_count": null,
   "id": "d2608f13-684d-4085-87e2-418c06194aeb",
   "metadata": {},
   "outputs": [],
   "source": [
    "gdpmiktarı= veri.sort_values(by=\"GDP ($ per capita)\", ascending=True)\n",
    "print(\"\\nKişi basına düşen milli hasılaya göre artan sıralama:\")\n",
    "print(gdpmiktarı[[\"Country\", \"GDP ($ per capita)\"]])"
   ]
  },
  {
   "cell_type": "code",
   "execution_count": 8,
   "id": "b5c37e0c-0ca5-4a66-add0-05efab7a098f",
   "metadata": {},
   "outputs": [
    {
     "name": "stdout",
     "output_type": "stream",
     "text": [
      "\n",
      "Nüfusu 10 milyonun üzerinde olan ülkeler:\n",
      "     Country  Population\n",
      "0        USA   331000000\n",
      "1      China  1441000000\n",
      "2      India  1380000000\n",
      "3  Indonesia   273500000\n",
      "4     Brazil   212600000\n"
     ]
    }
   ],
   "source": [
    "insansayısı = veri[veri[\"Population\"] > 10_000_000]\n",
    "print(\"\\nNüfusu 10 milyonun üzerinde olan ülkeler:\")\n",
    "print(insansayısı[[\"Country\", \"Population\"]])"
   ]
  },
  {
   "cell_type": "code",
   "execution_count": null,
   "id": "5791f34c-833e-4ba6-943e-dfad82736f48",
   "metadata": {},
   "outputs": [],
   "source": [
    "\n",
    "print(veri.columns.tolist())\n",
    "\n",
    "\n",
    "OkurYazarlık = veri.sort_values(by=\"Literacy\", ascending=False).head(5)\n",
    "print(\"\\nEn yüksek Okur yazarlık oranına sahip 5 ülke:\")\n",
    "print(OkurYazarlık[[\"Country\", \"Literacy\"]])\n",
    "\n"
   ]
  },
  {
   "cell_type": "code",
   "execution_count": null,
   "id": "b52c8f3d-2a76-4268-9126-a91e5f4091d8",
   "metadata": {},
   "outputs": [],
   "source": [
    "kazanc10000 = veri[veri[\"GDP ($ per capita)\"] > 10000]\n",
    "print(\"\\nKişi basına yıllık 10.000$\\'dan yüksek olan ülkeler:\")\n",
    "print(kazanc10000[[\"Country\", \"GDP ($ per capita)\"]])"
   ]
  },
  {
   "cell_type": "code",
   "execution_count": 26,
   "id": "a892021e-fd18-427b-bca2-030d96edd2db",
   "metadata": {},
   "outputs": [
    {
     "name": "stdout",
     "output_type": "stream",
     "text": [
      "Available columns in the DataFrame:\n",
      "Country\n",
      "Population\n",
      "\n",
      "Possible area columns: []\n",
      "\n",
      "No area-related columns found. Please check your column names and adjust the search criteria.\n",
      "All available columns:\n",
      "['Country', 'Population']\n"
     ]
    }
   ],
   "source": [
    "print(\"Available columns in the DataFrame:\")\n",
    "for col in veri.columns:\n",
    "    print(col)\n",
    "\n",
    "\n",
    "area_columns = [col for col in veri.columns if 'area' in col.lower() or 'land' in col.lower() or 'sq' in col.lower()]\n",
    "print(\"\\nPossible area columns:\", area_columns)\n",
    "\n",
    "\n",
    "if area_columns:\n",
    "    actual_area_column = area_columns[0]  \n",
    "    veri[\"Population Density\"] = veri[\"Population\"] / veri[actual_area_column]\n",
    "    AlanBasıİnsan = veri.sort_values(by=\"Population Density\", ascending=False).head(10)\n",
    "    print(\"\\n1 mil kare alana en çok insan düşen 10 ülke:\")\n",
    "    print(AlanBasıİnsan[[\"Country\", \"Population Density\"]])\n",
    "else:\n",
    "    print(\"\\nNo area-related columns found. Please check your column names and adjust the search criteria.\")\n",
    "   \n",
    "    print(\"All available columns:\")\n",
    "    print(list(veri.columns))"
   ]
  },
  {
   "cell_type": "code",
   "execution_count": null,
   "id": "3c54c3cf-a546-427b-b1d7-5636fc263770",
   "metadata": {},
   "outputs": [],
   "source": []
  }
 ],
 "metadata": {
  "kernelspec": {
   "display_name": "Python [conda env:base] *",
   "language": "python",
   "name": "conda-base-py"
  },
  "language_info": {
   "codemirror_mode": {
    "name": "ipython",
    "version": 3
   },
   "file_extension": ".py",
   "mimetype": "text/x-python",
   "name": "python",
   "nbconvert_exporter": "python",
   "pygments_lexer": "ipython3",
   "version": "3.13.5"
  }
 },
 "nbformat": 4,
 "nbformat_minor": 5
}
